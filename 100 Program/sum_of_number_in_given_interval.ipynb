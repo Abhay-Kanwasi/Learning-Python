{
 "cells": [
  {
   "cell_type": "markdown",
   "id": "9e439bf7",
   "metadata": {},
   "source": [
    "#### Find the Sum of the Numbers in a Given Interval in Python Language\n",
    "\n",
    "Given two integer inputs as the range [low , high], the objective is to find the sum of all the numbers that lay in the given integer inputs as interval. In order to do so we usually iterate through the the numbers in the given range and keep appending them to the sum variable. Here are few methods to solve the above mentioned problem in Python Language.\n",
    "\n",
    "Method 1: Using Brute Force\n",
    "\n",
    "Method 2: Using the Formula\n",
    "\n",
    "Method 3: Using Recursion\n"
   ]
  },
  {
   "cell_type": "code",
   "execution_count": 3,
   "id": "df935a70",
   "metadata": {},
   "outputs": [
    {
     "name": "stdout",
     "output_type": "stream",
     "text": [
      "sum of numbers between 2 and 3 is 5\n"
     ]
    }
   ],
   "source": [
    "# Method 1 : Using Brute Force\n",
    "\n",
    "low = int(input(\"Enter lowest integer: \"))\n",
    "high = int(input(\"Enter highest integer: \"))\n",
    "\n",
    "sum_of_numbers = 0\n",
    "for number in range(low, high + 1):\n",
    "    sum_of_numbers += number\n",
    "\n",
    "print(f'sum of numbers between {low} and {high} is {sum_of_numbers}')"
   ]
  },
  {
   "cell_type": "code",
   "execution_count": null,
   "id": "1ab0e4cc",
   "metadata": {},
   "outputs": [],
   "source": []
  }
 ],
 "metadata": {
  "kernelspec": {
   "display_name": ".venv",
   "language": "python",
   "name": "python3"
  },
  "language_info": {
   "codemirror_mode": {
    "name": "ipython",
    "version": 3
   },
   "file_extension": ".py",
   "mimetype": "text/x-python",
   "name": "python",
   "nbconvert_exporter": "python",
   "pygments_lexer": "ipython3",
   "version": "3.12.3"
  }
 },
 "nbformat": 4,
 "nbformat_minor": 5
}
