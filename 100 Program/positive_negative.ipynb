{
 "cells": [
  {
   "cell_type": "markdown",
   "id": "34fc8595",
   "metadata": {},
   "source": [
    "#### Given an integer input, the objective is check whether the given integer is Positive or Negative. In order to do so we have the following method,\n",
    "\n",
    "<b>Method 1</b> : Using Brute Force\n",
    "\n",
    "<b>Method 2</b> : Using Nested if-else Statements\n",
    "\n",
    "<b>Method 3</b> : Using ternary operator"
   ]
  },
  {
   "cell_type": "code",
   "execution_count": null,
   "id": "f607e67e",
   "metadata": {},
   "outputs": [],
   "source": []
  },
  {
   "cell_type": "code",
   "execution_count": 1,
   "id": "db2a9af3",
   "metadata": {},
   "outputs": [
    {
     "name": "stdout",
     "output_type": "stream",
     "text": [
      "7 must be a integer or float\n"
     ]
    }
   ],
   "source": [
    "# Method 1 : Using Brute Force\n",
    "\n",
    "number = '7'\n",
    "if not isinstance(number, int) or isinstance(number, float):\n",
    "    print(f'{number} must be a integer or float')\n",
    "else:\n",
    "    if number > 0:\n",
    "        print(f'{number} is a positive number.')\n",
    "    elif number < 0:\n",
    "        print(f'{number} is a negative number')\n",
    "    else:\n",
    "        print(f'{number} is zero which is nor positive or negative')"
   ]
  },
  {
   "cell_type": "code",
   "execution_count": 2,
   "id": "278dcd2e",
   "metadata": {},
   "outputs": [
    {
     "name": "stdout",
     "output_type": "stream",
     "text": [
      "ee must be a integer or float\n"
     ]
    }
   ],
   "source": [
    "# Method 2 : Using Nested if-else Statements\n",
    "\n",
    "number = 'ee'\n",
    "if not isinstance(number, int) or isinstance(number, float):\n",
    "    print(f'{number} must be a integer or float')\n",
    "else:\n",
    "    if number >= 0:\n",
    "        if number == 0:\n",
    "            print(f'{number} is zero which is nor positive or negative')\n",
    "        else:\n",
    "            print(f'{number} is a positive number.')\n",
    "    else:\n",
    "        print(f'{number} is a negative number')"
   ]
  },
  {
   "cell_type": "code",
   "execution_count": 3,
   "id": "f606c675",
   "metadata": {},
   "outputs": [
    {
     "name": "stdout",
     "output_type": "stream",
     "text": [
      "0 is zero which is nor positive or negative\n"
     ]
    }
   ],
   "source": [
    "# Method 3: Using ternary operator\n",
    "\n",
    "number = 0\n",
    "if not isinstance(number, int) or isinstance(number, float):\n",
    "    print(f'{number} must be a integer or float')\n",
    "else:\n",
    "    print(f'{number} is zero which is nor positive or negative' if number == 0 else f'{number} is a positive number.' if number > 0 else f\"{number} is a negative number.\")"
   ]
  },
  {
   "cell_type": "code",
   "execution_count": null,
   "id": "b02af273",
   "metadata": {},
   "outputs": [],
   "source": []
  }
 ],
 "metadata": {
  "kernelspec": {
   "display_name": ".venv",
   "language": "python",
   "name": "python3"
  },
  "language_info": {
   "codemirror_mode": {
    "name": "ipython",
    "version": 3
   },
   "file_extension": ".py",
   "mimetype": "text/x-python",
   "name": "python",
   "nbconvert_exporter": "python",
   "pygments_lexer": "ipython3",
   "version": "3.12.3"
  }
 },
 "nbformat": 4,
 "nbformat_minor": 5
}
