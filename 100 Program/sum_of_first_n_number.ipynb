{
 "cells": [
  {
   "cell_type": "markdown",
   "id": "44e48e59",
   "metadata": {},
   "source": [
    "#### Find the Sum of the First N Natural Numbers in Python\n",
    "\n",
    "Given an integer input of N, the objective is to find the sum of all the natural numbers until the given input integer. To do so we can use different approaches to write the Python code and some such methods are mentioned below,\n",
    "\n",
    "<b>Method 1</b> : Using for Loop  \n",
    "\n",
    "<b>Method 2</b> : Using Formula for the Sum of Nth Term \n",
    "\n",
    "<b>Method 3</b> : Using Recursion"
   ]
  },
  {
   "cell_type": "markdown",
   "id": "f09c447b",
   "metadata": {},
   "source": []
  },
  {
   "cell_type": "code",
   "execution_count": 7,
   "id": "223857e3",
   "metadata": {},
   "outputs": [
    {
     "name": "stdout",
     "output_type": "stream",
     "text": [
      "Sum of 5 limit is 15\n"
     ]
    }
   ],
   "source": [
    "# Method 1 : Using for Loop\n",
    "\n",
    "input_integer = int(input(\"Enter the number: \"))\n",
    "if input_integer <=0:\n",
    "    print(f'Natural number can\\'t be 0 or negative numbers.')\n",
    "sum_of_natural_numbers = 0\n",
    "for natural_number in range(input_integer + 1):\n",
    "    sum_of_natural_numbers += natural_number\n",
    "print(f'Sum of {input_integer} limit is {sum_of_natural_numbers}')"
   ]
  },
  {
   "cell_type": "code",
   "execution_count": 6,
   "id": "d2e99d1c",
   "metadata": {},
   "outputs": [
    {
     "name": "stdout",
     "output_type": "stream",
     "text": [
      "Sum of 5 limit is 15\n"
     ]
    }
   ],
   "source": [
    "# Method 2 : Using formula for the sum of n^th term\n",
    "\n",
    "\"\"\"\n",
    "Formula to Find the Sum of N terms\n",
    "Sum = ( Num * ( Num + 1 ) ) / 2\n",
    "\"\"\"\n",
    "input_integer = int(input(\"Enter the number: \"))\n",
    "sum_of_natural_numbers = int((input_integer * (input_integer + 1)) / 2)\n",
    "print(f'Sum of {input_integer} limit is {sum_of_natural_numbers}')"
   ]
  },
  {
   "cell_type": "code",
   "execution_count": 12,
   "id": "05bc3aab",
   "metadata": {},
   "outputs": [
    {
     "name": "stdout",
     "output_type": "stream",
     "text": [
      "Sum of 5 limit is 15\n"
     ]
    }
   ],
   "source": [
    "# Method 3 : Using recursion\n",
    "\n",
    "input_integer = 5\n",
    "def get_sum_of_natural_number(input_integer):\n",
    "    if input_integer == 1:\n",
    "        return 1\n",
    "    return input_integer + get_sum_of_natural_number(input_integer - 1)\n",
    "\n",
    "print(f'Sum of {input_integer} limit is {sum_of_natural_numbers}')\n"
   ]
  },
  {
   "cell_type": "code",
   "execution_count": null,
   "id": "e28a8c57",
   "metadata": {},
   "outputs": [],
   "source": []
  }
 ],
 "metadata": {
  "kernelspec": {
   "display_name": ".venv",
   "language": "python",
   "name": "python3"
  },
  "language_info": {
   "codemirror_mode": {
    "name": "ipython",
    "version": 3
   },
   "file_extension": ".py",
   "mimetype": "text/x-python",
   "name": "python",
   "nbconvert_exporter": "python",
   "pygments_lexer": "ipython3",
   "version": "3.12.3"
  }
 },
 "nbformat": 4,
 "nbformat_minor": 5
}
